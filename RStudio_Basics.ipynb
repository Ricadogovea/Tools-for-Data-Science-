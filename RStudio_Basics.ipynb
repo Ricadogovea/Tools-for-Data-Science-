{
 "cells": [
  {
   "cell_type": "markdown",
   "metadata": {},
   "source": [
    "# RStudio"
   ]
  },
  {
   "cell_type": "markdown",
   "metadata": {},
   "source": [
    "**Exercise 1 - Running your first R code in RStudio IDE**"
   ]
  },
  {
   "cell_type": "markdown",
   "metadata": {},
   "source": [
    "1. To launch RStudio IDE on Skills Network Labs, click on the \"Open Tool\" button below.\n",
    "2. With RStudio IDE open in your browser, click within the Console window in the lower lefthand corner.\n",
    "3. Type in \"1 + 1\", without quotation marks and press Enter to run the R code.\n",
    "4. You should see the result: \"[1] 2\". Note that the \"[1]\" simply refers to the [n]th item returned in the output.\n",
    "5. Now try running \"1:1000\" in your console, which should display the first 1000 integers from 1 to 1000."
   ]
  },
  {
   "cell_type": "markdown",
   "metadata": {},
   "source": [
    "**Exercise 2 - Create a new R script**"
   ]
  },
  {
   "cell_type": "markdown",
   "metadata": {},
   "source": [
    "1. Go to \"File\" then \"New File\" then \"R Script\".\n",
    "2. In your R script window, type \"x <- 1\" or \"x = 1\". Both do the same thing, but in R, variables are traditionally assigned using the \"<-\" syntax, which resembles a leftward-pointing arrow.\n",
    "3. Execute the code from the script window, either by pressing the \"Run\" button or by pressing \"Ctrl+Enter (Windows)\" or \"Cmd+Enter (Mac)\" on your keyboard. You should see that the code was properly run in the console.\n",
    "4. Notice that in the upper-righthand window under \"Environment\", you should now see a new variable for \"x\", with a value of \"1\".\n",
    "5. Try adding 100 to x from the script window and confirm the result in the Console."
   ]
  },
  {
   "cell_type": "markdown",
   "metadata": {},
   "source": [
    "**Exercise 3 - Save your new R script**"
   ]
  },
  {
   "cell_type": "markdown",
   "metadata": {},
   "source": [
    "1. Go to \"File\", then \"Save\" to save your R script. Alternatively, you can go to \"File\" then \"Save As...\" to choose a filename and where you want to save your file.\n",
    "2. In the bottom right-hand window for \"Files\", you should now be able to navigate the folders and find your current R Script.\n",
    "3. If you wish, you can download the R script to your computer. To do so, check the checkbox to the left of the filename, and click on \"Export\" to download your file."
   ]
  },
  {
   "cell_type": "markdown",
   "metadata": {},
   "source": [
    "**Exercise 4 - Upload an R script, install an R library, and plot an interactive map in R of New York City**"
   ]
  },
  {
   "cell_type": "markdown",
   "metadata": {},
   "source": [
    "1. Download the following R script:\n",
    "\n",
    "#Import the leaflet library for plotting maps in R\n",
    "#library(leaflet)\n",
    "\n",
    "#If the above line of code returns an error as in: \n",
    "#Then run the follow command to install the package:\n",
    "#-install.packages(\"leaflet\")\n",
    "\n",
    "#Important! After installing, go back to the top and run `library(leaflet)` to load the library\n",
    "\n",
    "#New York GPS\n",
    "nyc_latitude = 40.7128\n",
    "nyc_longitude = -74.0060\n",
    "\n",
    "#Create a map\n",
    "m <- leaflet() %>% setView(lng = nyc_longitude, \n",
    "                           lat = nyc_latitude, \n",
    "                          zoom = 12)\n",
    "m %>% addTiles()\n",
    "//"
   ]
  },
  {
   "cell_type": "markdown",
   "metadata": {},
   "source": [
    "2. Upload the R script to RStudio IDE by navigating to the \"Upload\" button in the lower-righthand window under the \"Files\" tab.\n",
    "\n",
    "3. Once upload is complete, click on the map_new_york_city.R script in RStudio to open it in the script editor window.\n",
    "\n",
    "4. Try running each line of code, one by one from the top, using \"Run\" or by pressing \"Ctrl+Enter (Windows)\" or \"Cmd+Enter (Mac)\" on your keyboard. Don't worry too much about what the code means or how to write similar code.\n",
    "\n",
    "5. Once the map is created, you should see it in the lower right-hand corner. You can try to zoom in and out of the map view.\n",
    "\n",
    "6. (Optional) Try changing the co-ordinates of the map (its latitude and longitude values) in the script window, then re-run the code again to re-create the map. For example, you can do a Google search for a popular landmark in the world to find its latitude and longitude. You may need to figure out which lines of code you need to change, which lines of code you need to re-run, and which lines of code you do not need to re-run."
   ]
  },
  {
   "cell_type": "code",
   "execution_count": null,
   "metadata": {},
   "outputs": [],
   "source": []
  }
 ],
 "metadata": {
  "kernelspec": {
   "display_name": "Python",
   "language": "python",
   "name": "conda-env-python-py"
  },
  "language_info": {
   "codemirror_mode": {
    "name": "ipython",
    "version": 3
   },
   "file_extension": ".py",
   "mimetype": "text/x-python",
   "name": "python",
   "nbconvert_exporter": "python",
   "pygments_lexer": "ipython3",
   "version": "3.6.10"
  }
 },
 "nbformat": 4,
 "nbformat_minor": 4
}
